{
 "cells": [
  {
   "cell_type": "code",
   "execution_count": null,
   "metadata": {},
   "outputs": [],
   "source": [
    "import numpy as np\n",
    "from tqdm import tqdm\n",
    "from matplotlib import pyplot as plt\n",
    "\n",
    "from numba import njit\n",
    "\n",
    "from skimage.io import imsave, imshow, imread\n",
    "from skimage.color import rgb2gray"
   ]
  },
  {
   "cell_type": "code",
   "execution_count": null,
   "metadata": {},
   "outputs": [],
   "source": [
    "Dy = list(range(-5,5+1))     #D[0]\n",
    "Dx = list(range(-5,5+1))   #D[1]\n",
    "\n",
    "D = np.transpose([np.tile(Dy, len(Dx)), np.repeat(Dx, len(Dy))])\n",
    "D[:5]"
   ]
  },
  {
   "cell_type": "code",
   "execution_count": null,
   "metadata": {},
   "outputs": [],
   "source": [
    "@njit\n",
    "def initialize_H(height, width, D, img_L, img_R):\n",
    "    H = np.zeros((height, width, len(D)), dtype=np.float32)\n",
    "    for y in range(0, height):\n",
    "        for x in range(0, width):\n",
    "            for d_ind, d in enumerate(D):\n",
    "                if 0<= y-d[0] < height and 0<= x-d[1] <width:\n",
    "                    H[y, x, d_ind] = abs( img_L[y,x] - img_R[y - d[0], x - d[1]] )\n",
    "                else:\n",
    "                    H[y, x, d_ind] = np.inf # Weird results\n",
    "    return H"
   ]
  },
  {
   "cell_type": "code",
   "execution_count": null,
   "metadata": {},
   "outputs": [],
   "source": [
    "@njit\n",
    "def initialize_G(D, alpha=1):\n",
    "    \n",
    "    G = np.zeros((len(D), len(D)), dtype=np.float32)\n",
    "    for d1_ind, d1 in enumerate(D):\n",
    "        for d2_ind, d2 in enumerate(D):\n",
    "            G[d1_ind, d2_ind] = (d1[0] - d2[0])**2 + (d1[1] - d2[1])**2\n",
    "            \n",
    "    return G"
   ]
  },
  {
   "cell_type": "markdown",
   "metadata": {},
   "source": [
    "---"
   ]
  },
  {
   "cell_type": "code",
   "execution_count": null,
   "metadata": {},
   "outputs": [],
   "source": [
    "# Img import\n",
    "img_L = (rgb2gray( imread(\"imgs/a1.png\"))*255 )\n",
    "img_R = (rgb2gray( imread(\"imgs/a2.png\"))*255 )\n",
    "\n",
    "height, width = img_L.shape[:2] #y, x"
   ]
  },
  {
   "cell_type": "code",
   "execution_count": null,
   "metadata": {},
   "outputs": [],
   "source": [
    "#imshow(img_L, cmap='gray')\n",
    "print(f\"Img info - shape:{width, height}, max el:{np.max(img_L)}, dtype:{img_L.dtype}\")"
   ]
  },
  {
   "cell_type": "code",
   "execution_count": null,
   "metadata": {},
   "outputs": [],
   "source": [
    "H = initialize_H(height, width, D, img_L, img_R)\n",
    "G = initialize_G(D)"
   ]
  },
  {
   "cell_type": "code",
   "execution_count": null,
   "metadata": {},
   "outputs": [],
   "source": [
    "#imshow(H[:,:,0])"
   ]
  },
  {
   "cell_type": "code",
   "execution_count": null,
   "metadata": {},
   "outputs": [],
   "source": [
    "#imshow(G)"
   ]
  },
  {
   "cell_type": "markdown",
   "metadata": {},
   "source": [
    "---"
   ]
  },
  {
   "cell_type": "code",
   "execution_count": null,
   "metadata": {},
   "outputs": [],
   "source": [
    "@njit\n",
    "def init_left_part(height, width, D, H, G):\n",
    "\n",
    "    Li = np.zeros((height, width, len(D)), dtype=np.float32)\n",
    "\n",
    "    for y in range(0, height):\n",
    "        for x in range(0, width):\n",
    "            for d_ind, d in enumerate(D):\n",
    "                Li[y, x, d_ind] = left(y, x, d_ind, Li, D, H, G)\n",
    "    return Li\n",
    "\n",
    "@njit\n",
    "def left(y, x, d_ind, Li, D, H, G):\n",
    "\n",
    "    if x == 0:\n",
    "        return 0\n",
    "    else:\n",
    "        minl = np.inf\n",
    "\n",
    "        for d2_ind, d2 in enumerate(D):\n",
    "            temp = Li[y, x-1, d2_ind] + H[y, x-1, d2_ind] + G[d_ind, d2_ind]\n",
    "            if temp < minl:\n",
    "                minl = temp\n",
    "\n",
    "        return minl"
   ]
  },
  {
   "cell_type": "code",
   "execution_count": null,
   "metadata": {},
   "outputs": [],
   "source": [
    "@njit\n",
    "def init_right_part(height, width, D, H, G):\n",
    "\n",
    "    Ri = np.zeros((height, width, len(D)), dtype=np.float32)\n",
    "\n",
    "    for y in range(height-1, -1):\n",
    "        for x in range(width-1, -1):\n",
    "            for d_ind, d in enumerate(D):\n",
    "                Ri[y, x, d_ind] = right(y, x, d_ind, Ri, D, H, G)\n",
    "    return Ri\n",
    "\n",
    "@njit\n",
    "def right(y, x, d_ind, Ri, D, H, G):\n",
    "\n",
    "    if x == width-1:\n",
    "        return 0\n",
    "    else:\n",
    "        minl = np.inf\n",
    "\n",
    "        for d2_ind, d2 in enumerate(D):\n",
    "            temp = Ri[y, x+1, d2_ind] + H[y, x+1, d2_ind] + G[d_ind, d2_ind]\n",
    "            if temp < minl:\n",
    "                minl = temp\n",
    "\n",
    "        return minl"
   ]
  },
  {
   "cell_type": "code",
   "execution_count": null,
   "metadata": {},
   "outputs": [],
   "source": [
    "@njit\n",
    "def init_top_part(height, width, D, H, G):\n",
    "\n",
    "    Ui = np.zeros((height, width, len(D)), dtype=np.float32)\n",
    "\n",
    "    for y in range(0, height):\n",
    "        for x in range(0, width):\n",
    "            for d_ind, d in enumerate(D):\n",
    "                Ui[y, x, d_ind] = up(y, x, d_ind, Ui, D, H, G)\n",
    "    return Ui\n",
    "\n",
    "@njit\n",
    "def up(y, x, d_ind, Ui, D, H, G):\n",
    "\n",
    "    if y == 0:\n",
    "        return 0\n",
    "    else:\n",
    "        minl = np.inf\n",
    "\n",
    "        for d2_ind, d2 in enumerate(D):\n",
    "            temp = Ui[y-1, x, d2_ind] + H[y-1, x, d2_ind] + G[d_ind, d2_ind]\n",
    "            if temp < minl:\n",
    "                minl = temp\n",
    "\n",
    "        return minl"
   ]
  },
  {
   "cell_type": "code",
   "execution_count": null,
   "metadata": {},
   "outputs": [],
   "source": [
    "@njit\n",
    "def init_bottom_part(height, width, D, H, G):\n",
    "\n",
    "    Di = np.zeros((height, width, len(D)), dtype=np.float32)\n",
    "\n",
    "    for y in range(height-1, -1):\n",
    "        for x in range(width-1, -1):\n",
    "            for d_ind, d in enumerate(D):\n",
    "                Di[y, x, d_ind] = right(y, x, d_ind, Di, D, H, G)\n",
    "    return Di\n",
    "\n",
    "@njit\n",
    "def right(y, x, d_ind, Di, D, H, G):\n",
    "\n",
    "    if x == height-1:\n",
    "        return 0\n",
    "    else:\n",
    "        minl = np.inf\n",
    "\n",
    "        for d2_ind, d2 in enumerate(D):\n",
    "            temp = Di[y+1, x, d2_ind] + H[y+1, x, d2_ind] + G[d_ind, d2_ind]\n",
    "            if temp < minl:\n",
    "                minl = temp\n",
    "\n",
    "        return minl"
   ]
  },
  {
   "cell_type": "code",
   "execution_count": null,
   "metadata": {},
   "outputs": [],
   "source": [
    "Li = init_left_part(height, width, D, H, G)\n",
    "Ri = init_right_part(height, width, D, H, G)\n",
    "Ui = init_top_part(height, width, D, H, G)\n",
    "Di = init_bottom_part(height, width, D, H, G)"
   ]
  },
  {
   "cell_type": "markdown",
   "metadata": {},
   "source": [
    "---"
   ]
  },
  {
   "cell_type": "code",
   "execution_count": null,
   "metadata": {},
   "outputs": [],
   "source": [
    "#@njit\n",
    "def reconstruct(height, width, Li, Ri, Ui, Di, H):\n",
    "    \n",
    "    Res = np.zeros((height, width), dtype=np.uint8)\n",
    "    \n",
    "    for y in range(0, height):\n",
    "        for x in range(0, width):\n",
    "            best_score = np.inf\n",
    "            best_d = None\n",
    "            for d_ind, d in enumerate(D):\n",
    "                temp = Li[y, x, d_ind] + Ui[y, x, d_ind] + H[y, x, d_ind] + Ri[y, x, d_ind] + Di[y, x, d_ind]\n",
    "                if temp < best_score:\n",
    "                    best_score = temp\n",
    "                    best_d = d_ind\n",
    "                    \n",
    "            Res[y,x] = best_d\n",
    "\n",
    "    return Res"
   ]
  },
  {
   "cell_type": "code",
   "execution_count": null,
   "metadata": {},
   "outputs": [],
   "source": [
    "Res = reconstruct(height, width, Li, Ri, Ui, Di, H)"
   ]
  },
  {
   "cell_type": "code",
   "execution_count": null,
   "metadata": {},
   "outputs": [],
   "source": [
    "#@njit\n",
    "def get_hsv(d_ind, D, max_disp):\n",
    "    \n",
    "    dy = D[d_ind][0]\n",
    "    dx = D[d_ind][1]\n",
    "    \n",
    "    # Hue\n",
    "    vector_1 = [dx, 0]\n",
    "    vector_2 = [dx, dy]\n",
    "    unit_vector_1 = vector_1 / np.linalg.norm(vector_1)\n",
    "    unit_vector_2 = vector_2 / np.linalg.norm(vector_2)\n",
    "    dot_product = np.dot(unit_vector_1, unit_vector_2)\n",
    "    angle = np.arccos(dot_product)\n",
    "    Hue = (np.sin(angle) + 1)/2\n",
    "    if np.isnan(Hue):\n",
    "        Hue = 0\n",
    "\n",
    "    # Value\n",
    "    Val = ( dx**2 + dy**2 ) / ( 2 * max_disp**2)\n",
    "    \n",
    "    #Saturation\n",
    "    Sat = 1\n",
    "    \n",
    "    return np.array( [Hue, Sat, Val] )"
   ]
  },
  {
   "cell_type": "code",
   "execution_count": null,
   "metadata": {},
   "outputs": [],
   "source": [
    "Dm = np.zeros((height, width, 3))\n",
    "\n",
    "max_disp = max( np.max(np.array(Dx)), np.max(np.array(Dy)))\n",
    "\n",
    "for y in range(0, height):\n",
    "        for x in range(0, width):\n",
    "             Dm[y,x] = get_hsv(Res[y,x], D, max_disp)"
   ]
  },
  {
   "cell_type": "code",
   "execution_count": null,
   "metadata": {},
   "outputs": [],
   "source": [
    "print(f\"Img info - shape:{width, height}, max el:{np.max(Dm)}, dtype:{Dm.dtype}, [0]:{Dm[69,69]}\")"
   ]
  },
  {
   "cell_type": "code",
   "execution_count": null,
   "metadata": {
    "scrolled": true
   },
   "outputs": [],
   "source": [
    "imshow(Dm, cmap='hsv')"
   ]
  },
  {
   "cell_type": "code",
   "execution_count": null,
   "metadata": {},
   "outputs": [],
   "source": [
    "imsave('Finalresult.png',Dm)"
   ]
  },
  {
   "cell_type": "code",
   "execution_count": null,
   "metadata": {},
   "outputs": [],
   "source": [
    "Left = np.zeros((height, width, 3))\n",
    "Right = np.zeros((height, width, 3))\n",
    "Up = np.zeros((height, width, 3))\n",
    "Down = np.zeros((height, width, 3))\n",
    "\n",
    "for y in range(0, height):\n",
    "        for x in range(0, width):\n",
    "            \n",
    "            best_d = D[Res[y,x]]\n",
    "            \n",
    "            if best_d[0] >= 0:\n",
    "                Up[y,x,0] = best_d[0]\n",
    "                Up[y,x,1] = best_d[0]\n",
    "            else:\n",
    "                Down[y,x,1] = abs(best_d[0])\n",
    "               \n",
    "            if best_d[1] >= 0:\n",
    "                Left[y,x,0] = best_d[1]\n",
    "            else:\n",
    "                Right[y,x,2] = abs(best_d[1])\n",
    "    \n",
    "max_disp = max( np.max(np.array(Dx)), np.max(np.array(Dy)))\n",
    "Left = (Left*(255.0/max_disp)).astype(np.int16)  \n",
    "Right = (Right*(255.0/max_disp)).astype(np.int16)  \n",
    "Up = (Up*(255.0/max_disp)).astype(np.int16)  \n",
    "Down = (Down*(255.0/max_disp)).astype(np.int16)  "
   ]
  },
  {
   "cell_type": "code",
   "execution_count": null,
   "metadata": {},
   "outputs": [],
   "source": [
    "imshow(Up)"
   ]
  },
  {
   "cell_type": "code",
   "execution_count": null,
   "metadata": {},
   "outputs": [],
   "source": [
    "imshow(Down)"
   ]
  },
  {
   "cell_type": "code",
   "execution_count": null,
   "metadata": {},
   "outputs": [],
   "source": [
    "imshow(Left)"
   ]
  },
  {
   "cell_type": "code",
   "execution_count": null,
   "metadata": {},
   "outputs": [],
   "source": [
    "imshow(Right)"
   ]
  },
  {
   "cell_type": "code",
   "execution_count": null,
   "metadata": {},
   "outputs": [],
   "source": [
    "imsave('Up.png',Up)\n",
    "imsave('Down.png',Down)\n",
    "imsave('Left.png',Left)\n",
    "imsave('Right.png',Right)"
   ]
  },
  {
   "cell_type": "code",
   "execution_count": null,
   "metadata": {},
   "outputs": [],
   "source": []
  }
 ],
 "metadata": {
  "kernelspec": {
   "display_name": "Python 3",
   "language": "python",
   "name": "python3"
  },
  "language_info": {
   "codemirror_mode": {
    "name": "ipython",
    "version": 3
   },
   "file_extension": ".py",
   "mimetype": "text/x-python",
   "name": "python",
   "nbconvert_exporter": "python",
   "pygments_lexer": "ipython3",
   "version": "3.7.4"
  }
 },
 "nbformat": 4,
 "nbformat_minor": 5
}
