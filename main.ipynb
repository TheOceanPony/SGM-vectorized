{
 "cells": [
  {
   "cell_type": "code",
   "execution_count": 1,
   "id": "exempt-document",
   "metadata": {},
   "outputs": [],
   "source": [
    "import numpy as np\n",
    "from tqdm import tqdm\n",
    "from matplotlib import pyplot as plt\n",
    "\n",
    "from numba import njit\n",
    "\n",
    "from skimage.io import imsave, imshow, imread\n",
    "from skimage.color import rgb2gray"
   ]
  },
  {
   "cell_type": "code",
   "execution_count": 2,
   "id": "religious-tutorial",
   "metadata": {},
   "outputs": [
    {
     "data": {
      "text/plain": [
       "array([[-5, -5],\n",
       "       [-4, -5],\n",
       "       [-3, -5],\n",
       "       [-2, -5],\n",
       "       [-1, -5]])"
      ]
     },
     "execution_count": 2,
     "metadata": {},
     "output_type": "execute_result"
    }
   ],
   "source": [
    "Dy = list(range(-5,5+1))     #D[0]\n",
    "Dx = list(range(-5,5+1))   #D[1]\n",
    "\n",
    "D = np.transpose([np.tile(Dy, len(Dx)), np.repeat(Dx, len(Dy))])\n",
    "D[:5]"
   ]
  },
  {
   "cell_type": "code",
   "execution_count": 3,
   "id": "automatic-synthetic",
   "metadata": {},
   "outputs": [],
   "source": [
    "@njit\n",
    "def initialize_H(height, width, D, img_L, img_R):\n",
    "    H = np.zeros((height, width, len(D)), dtype=np.float32)\n",
    "    for y in range(0, height):\n",
    "        for x in range(0, width):\n",
    "            for d_ind, d in enumerate(D):\n",
    "                if 0<= y-d[0] < height and 0<= x-d[1] <width:\n",
    "                    H[y, x, d_ind] = abs( img_L[y,x] - img_R[y - d[0], x - d[1]] )\n",
    "                else:\n",
    "                    H[y, x, d_ind] = np.inf # Weird results\n",
    "    return H"
   ]
  },
  {
   "cell_type": "code",
   "execution_count": 4,
   "id": "north-spice",
   "metadata": {},
   "outputs": [],
   "source": [
    "@njit\n",
    "def initialize_G(D, alpha=1):\n",
    "    \n",
    "    G = np.zeros((len(D), len(D)), dtype=np.float32)\n",
    "    for d1_ind, d1 in enumerate(D):\n",
    "        for d2_ind, d2 in enumerate(D):\n",
    "            G[d1_ind, d2_ind] = (d1[0] - d2[0])**2 + (d1[1] - d2[1])**2\n",
    "            \n",
    "    return G"
   ]
  },
  {
   "cell_type": "markdown",
   "id": "earned-berkeley",
   "metadata": {},
   "source": [
    "---"
   ]
  },
  {
   "cell_type": "code",
   "execution_count": 5,
   "id": "assigned-salon",
   "metadata": {},
   "outputs": [
    {
     "name": "stderr",
     "output_type": "stream",
     "text": [
      "<ipython-input-5-3d5d48e0214e>:2: FutureWarning: Non RGB image conversion is now deprecated. For RGBA images, please use rgb2gray(rgba2rgb(rgb)) instead. In version 0.19, a ValueError will be raised if input image last dimension length is not 3.\n",
      "  img_L = (rgb2gray( imread(\"imgs/a1.png\"))*255 )\n",
      "<ipython-input-5-3d5d48e0214e>:3: FutureWarning: Non RGB image conversion is now deprecated. For RGBA images, please use rgb2gray(rgba2rgb(rgb)) instead. In version 0.19, a ValueError will be raised if input image last dimension length is not 3.\n",
      "  img_R = (rgb2gray( imread(\"imgs/a2.png\"))*255 )\n"
     ]
    }
   ],
   "source": [
    "# Img import\n",
    "img_L = (rgb2gray( imread(\"imgs/a1.png\"))*255 )\n",
    "img_R = (rgb2gray( imread(\"imgs/a2.png\"))*255 )\n",
    "\n",
    "height, width = img_L.shape[:2] #y, x"
   ]
  },
  {
   "cell_type": "code",
   "execution_count": 6,
   "id": "expensive-timber",
   "metadata": {},
   "outputs": [
    {
     "name": "stdout",
     "output_type": "stream",
     "text": [
      "Img info - shape:(400, 400), max el:255.0, dtype:float64\n"
     ]
    }
   ],
   "source": [
    "#imshow(img_L, cmap='gray')\n",
    "print(f\"Img info - shape:{width, height}, max el:{np.max(img_L)}, dtype:{img_L.dtype}\")"
   ]
  },
  {
   "cell_type": "code",
   "execution_count": 7,
   "id": "floppy-profile",
   "metadata": {},
   "outputs": [],
   "source": [
    "H = initialize_H(height, width, D, img_L, img_R)\n",
    "G = initialize_G(D)"
   ]
  },
  {
   "cell_type": "code",
   "execution_count": 8,
   "id": "central-drunk",
   "metadata": {},
   "outputs": [],
   "source": [
    "#imshow(H[:,:,0])"
   ]
  },
  {
   "cell_type": "code",
   "execution_count": 9,
   "id": "advised-pavilion",
   "metadata": {},
   "outputs": [],
   "source": [
    "#imshow(G)"
   ]
  },
  {
   "cell_type": "markdown",
   "id": "cubic-trash",
   "metadata": {},
   "source": [
    "---"
   ]
  },
  {
   "cell_type": "code",
   "execution_count": 10,
   "id": "vietnamese-kenya",
   "metadata": {},
   "outputs": [],
   "source": [
    "@njit\n",
    "def init_left_part(height, width, D, H, G):\n",
    "\n",
    "    Li = np.zeros((height, width, len(D)), dtype=np.float32)\n",
    "\n",
    "    for y in range(0, height):\n",
    "        for x in range(0, width):\n",
    "            for d_ind, d in enumerate(D):\n",
    "                Li[y, x, d_ind] = left(y, x, d_ind, Li, D, H, G)\n",
    "    return Li\n",
    "\n",
    "@njit\n",
    "def left(y, x, d_ind, Li, D, H, G):\n",
    "\n",
    "    if x == 0:\n",
    "        return 0\n",
    "    else:\n",
    "        minl = np.inf\n",
    "\n",
    "        for d2_ind, d2 in enumerate(D):\n",
    "            temp = Li[y, x-1, d2_ind] + H[y, x-1, d2_ind] + G[d_ind, d2_ind]\n",
    "            if temp < minl:\n",
    "                minl = temp\n",
    "\n",
    "        return minl"
   ]
  },
  {
   "cell_type": "code",
   "execution_count": 11,
   "id": "particular-acrylic",
   "metadata": {},
   "outputs": [],
   "source": [
    "@njit\n",
    "def init_right_part(height, width, D, H, G):\n",
    "\n",
    "    Ri = np.zeros((height, width, len(D)), dtype=np.float32)\n",
    "\n",
    "    for y in range(height-1, -1):\n",
    "        for x in range(width-1, -1):\n",
    "            for d_ind, d in enumerate(D):\n",
    "                Ri[y, x, d_ind] = right(y, x, d_ind, Ri, D, H, G)\n",
    "    return Ri\n",
    "\n",
    "@njit\n",
    "def right(y, x, d_ind, Ri, D, H, G):\n",
    "\n",
    "    if x == width-1:\n",
    "        return 0\n",
    "    else:\n",
    "        minl = np.inf\n",
    "\n",
    "        for d2_ind, d2 in enumerate(D):\n",
    "            temp = Ri[y, x+1, d2_ind] + H[y, x+1, d2_ind] + G[d_ind, d2_ind]\n",
    "            if temp < minl:\n",
    "                minl = temp\n",
    "\n",
    "        return minl"
   ]
  },
  {
   "cell_type": "code",
   "execution_count": 12,
   "id": "distinct-romance",
   "metadata": {},
   "outputs": [],
   "source": [
    "@njit\n",
    "def init_top_part(height, width, D, H, G):\n",
    "\n",
    "    Ui = np.zeros((height, width, len(D)), dtype=np.float32)\n",
    "\n",
    "    for y in range(0, height):\n",
    "        for x in range(0, width):\n",
    "            for d_ind, d in enumerate(D):\n",
    "                Ui[y, x, d_ind] = up(y, x, d_ind, Ui, D, H, G)\n",
    "    return Ui\n",
    "\n",
    "@njit\n",
    "def up(y, x, d_ind, Ui, D, H, G):\n",
    "\n",
    "    if y == 0:\n",
    "        return 0\n",
    "    else:\n",
    "        minl = np.inf\n",
    "\n",
    "        for d2_ind, d2 in enumerate(D):\n",
    "            temp = Ui[y-1, x, d2_ind] + H[y-1, x, d2_ind] + G[d_ind, d2_ind]\n",
    "            if temp < minl:\n",
    "                minl = temp\n",
    "\n",
    "        return minl"
   ]
  },
  {
   "cell_type": "code",
   "execution_count": 13,
   "id": "overall-failure",
   "metadata": {},
   "outputs": [],
   "source": [
    "@njit\n",
    "def init_bottom_part(height, width, D, H, G):\n",
    "\n",
    "    Di = np.zeros((height, width, len(D)), dtype=np.float32)\n",
    "\n",
    "    for y in range(height-1, -1):\n",
    "        for x in range(width-1, -1):\n",
    "            for d_ind, d in enumerate(D):\n",
    "                Di[y, x, d_ind] = right(y, x, d_ind, Di, D, H, G)\n",
    "    return Di\n",
    "\n",
    "@njit\n",
    "def right(y, x, d_ind, Di, D, H, G):\n",
    "\n",
    "    if x == height-1:\n",
    "        return 0\n",
    "    else:\n",
    "        minl = np.inf\n",
    "\n",
    "        for d2_ind, d2 in enumerate(D):\n",
    "            temp = Di[y+1, x, d2_ind] + H[y+1, x, d2_ind] + G[d_ind, d2_ind]\n",
    "            if temp < minl:\n",
    "                minl = temp\n",
    "\n",
    "        return minl"
   ]
  },
  {
   "cell_type": "code",
   "execution_count": 14,
   "id": "worth-hollow",
   "metadata": {},
   "outputs": [],
   "source": [
    "Li = init_left_part(height, width, D, H, G)\n",
    "Ri = init_right_part(height, width, D, H, G)\n",
    "Ui = init_top_part(height, width, D, H, G)\n",
    "Di = init_bottom_part(height, width, D, H, G)"
   ]
  },
  {
   "cell_type": "markdown",
   "id": "burning-bermuda",
   "metadata": {},
   "source": [
    "---"
   ]
  },
  {
   "cell_type": "code",
   "execution_count": 15,
   "id": "knowing-border",
   "metadata": {},
   "outputs": [],
   "source": [
    "#@njit\n",
    "def reconstruct(height, width, Li, Ri, Ui, Di, H):\n",
    "    \n",
    "    Res = np.zeros((height, width), dtype=np.uint8)\n",
    "    \n",
    "    for y in range(0, height):\n",
    "        for x in range(0, width):\n",
    "            best_score = np.inf\n",
    "            best_d = None\n",
    "            for d_ind, d in enumerate(D):\n",
    "                temp = Li[y, x, d_ind] + Ui[y, x, d_ind] + H[y, x, d_ind] + Ri[y, x, d_ind] + Di[y, x, d_ind]\n",
    "                if temp < best_score:\n",
    "                    best_score = temp\n",
    "                    best_d = d_ind\n",
    "                    \n",
    "            Res[y,x] = best_d\n",
    "\n",
    "    return Res"
   ]
  },
  {
   "cell_type": "code",
   "execution_count": 16,
   "id": "cultural-dress",
   "metadata": {},
   "outputs": [],
   "source": [
    "Res = reconstruct(height, width, Li, Ri, Ui, Di, H)"
   ]
  },
  {
   "cell_type": "code",
   "execution_count": 17,
   "id": "instructional-temperature",
   "metadata": {},
   "outputs": [],
   "source": [
    "#@njit\n",
    "def get_hsv(d_ind, D, max_disp):\n",
    "    \n",
    "    dy = D[d_ind][0]\n",
    "    dx = D[d_ind][1]\n",
    "    \n",
    "    # Hue\n",
    "    vector_1 = [dx, 0]\n",
    "    vector_2 = [dx, dy]\n",
    "    unit_vector_1 = vector_1 / np.linalg.norm(vector_1)\n",
    "    unit_vector_2 = vector_2 / np.linalg.norm(vector_2)\n",
    "    dot_product = np.dot(unit_vector_1, unit_vector_2)\n",
    "    angle = np.arccos(dot_product)\n",
    "    Hue = (np.sin(angle) + 1)/2\n",
    "    if np.isnan(Hue):\n",
    "        Hue = 0\n",
    "\n",
    "    # Value\n",
    "    Val = ( dx**2 + dy**2 ) / ( 2 * max_disp**2)\n",
    "    \n",
    "    #Saturation\n",
    "    Sat = 1\n",
    "    \n",
    "    return np.array( [Hue, Sat, Val] )"
   ]
  },
  {
   "cell_type": "code",
   "execution_count": 18,
   "id": "atomic-chemical",
   "metadata": {},
   "outputs": [
    {
     "name": "stderr",
     "output_type": "stream",
     "text": [
      "<ipython-input-17-55a35de1446b>:10: RuntimeWarning: invalid value encountered in true_divide\n",
      "  unit_vector_1 = vector_1 / np.linalg.norm(vector_1)\n",
      "<ipython-input-17-55a35de1446b>:11: RuntimeWarning: invalid value encountered in true_divide\n",
      "  unit_vector_2 = vector_2 / np.linalg.norm(vector_2)\n"
     ]
    }
   ],
   "source": [
    "Dm = np.zeros((height, width, 3))\n",
    "\n",
    "max_disp = max( np.max(np.array(Dx)), np.max(np.array(Dy)))\n",
    "\n",
    "for y in range(0, height):\n",
    "        for x in range(0, width):\n",
    "             Dm[y,x] = get_hsv(Res[y,x], D, max_disp)"
   ]
  },
  {
   "cell_type": "code",
   "execution_count": 19,
   "id": "according-sheffield",
   "metadata": {},
   "outputs": [
    {
     "name": "stdout",
     "output_type": "stream",
     "text": [
      "Img info - shape:(400, 400), max el:1.0, dtype:float64, [0]:[0.9472136 1.        0.4      ]\n"
     ]
    }
   ],
   "source": [
    "print(f\"Img info - shape:{width, height}, max el:{np.max(Dm)}, dtype:{Dm.dtype}, [0]:{Dm[69,69]}\")"
   ]
  },
  {
   "cell_type": "code",
   "execution_count": 20,
   "id": "forward-diversity",
   "metadata": {
    "scrolled": true
   },
   "outputs": [
    {
     "data": {
      "text/plain": [
       "<matplotlib.image.AxesImage at 0x7f8cec4fe670>"
      ]
     },
     "execution_count": 20,
     "metadata": {},
     "output_type": "execute_result"
    },
    {
     "data": {
      "image/png": "[encoded data removed]",
      "text/plain": [
       "<Figure size 432x288 with 1 Axes>"
      ]
     },
     "metadata": {
      "needs_background": "light"
     },
     "output_type": "display_data"
    }
   ],
   "source": [
    "imshow(Dm, cmap='hsv')"
   ]
  },
  {
   "cell_type": "code",
   "execution_count": 21,
   "id": "ranging-lodge",
   "metadata": {},
   "outputs": [
    {
     "name": "stderr",
     "output_type": "stream",
     "text": [
      "Lossy conversion from float64 to uint8. Range [0, 1]. Convert image to uint8 prior to saving to suppress this warning.\n"
     ]
    }
   ],
   "source": [
    "imsave('Finalresult.png',Dm)"
   ]
  },
  {
   "cell_type": "code",
   "execution_count": 22,
   "id": "becoming-stylus",
   "metadata": {},
   "outputs": [],
   "source": [
    "Left = np.zeros((height, width, 3))\n",
    "Right = np.zeros((height, width, 3))\n",
    "Up = np.zeros((height, width, 3))\n",
    "Down = np.zeros((height, width, 3))\n",
    "\n",
    "for y in range(0, height):\n",
    "        for x in range(0, width):\n",
    "            \n",
    "            best_d = D[Res[y,x]]\n",
    "            \n",
    "            if best_d[0] >= 0:\n",
    "                Up[y,x,0] = best_d[0]\n",
    "                Up[y,x,1] = best_d[0]\n",
    "            else:\n",
    "                Down[y,x,1] = abs(best_d[0])\n",
    "               \n",
    "            if best_d[1] >= 0:\n",
    "                Left[y,x,0] = best_d[1]\n",
    "            else:\n",
    "                Right[y,x,2] = abs(best_d[1])\n",
    "    \n",
    "max_disp = max( np.max(np.array(Dx)), np.max(np.array(Dy)))\n",
    "Left = (Left*(255.0/max_disp)).astype(np.int16)  \n",
    "Right = (Right*(255.0/max_disp)).astype(np.int16)  \n",
    "Up = (Up*(255.0/max_disp)).astype(np.int16)  \n",
    "Down = (Down*(255.0/max_disp)).astype(np.int16)  "
   ]
  },
  {
   "cell_type": "code",
   "execution_count": 23,
   "id": "novel-amount",
   "metadata": {},
   "outputs": [
    {
     "name": "stderr",
     "output_type": "stream",
     "text": [
      "/home/support/.local/lib/python3.8/site-packages/skimage/io/_plugins/matplotlib_plugin.py:150: UserWarning: Low image data range; displaying image with stretched contrast.\n",
      "  lo, hi, cmap = _get_display_range(image)\n"
     ]
    },
    {
     "data": {
      "text/plain": [
       "<matplotlib.image.AxesImage at 0x7f8cddf38a60>"
      ]
     },
     "execution_count": 23,
     "metadata": {},
     "output_type": "execute_result"
    },
    {
     "data": {
      "image/png": "[encoded data removed]",
      "text/plain": [
       "<Figure size 432x288 with 2 Axes>"
      ]
     },
     "metadata": {
      "needs_background": "light"
     },
     "output_type": "display_data"
    }
   ],
   "source": [
    "imshow(Up)"
   ]
  },
  {
   "cell_type": "code",
   "execution_count": 24,
   "id": "silver-effect",
   "metadata": {},
   "outputs": [
    {
     "data": {
      "text/plain": [
       "<matplotlib.image.AxesImage at 0x7f8cec51b8e0>"
      ]
     },
     "execution_count": 24,
     "metadata": {},
     "output_type": "execute_result"
    },
    {
     "data": {
      "image/png": "[encoded data removed]",
      "text/plain": [
       "<Figure size 432x288 with 2 Axes>"
      ]
     },
     "metadata": {
      "needs_background": "light"
     },
     "output_type": "display_data"
    }
   ],
   "source": [
    "imshow(Down)"
   ]
  },
  {
   "cell_type": "code",
   "execution_count": 25,
   "id": "experimental-penguin",
   "metadata": {},
   "outputs": [
    {
     "data": {
      "text/plain": [
       "<matplotlib.image.AxesImage at 0x7f8ce7938370>"
      ]
     },
     "execution_count": 25,
     "metadata": {},
     "output_type": "execute_result"
    },
    {
     "data": {
      "image/png": "[encoded data removed]",
      "text/plain": [
       "<Figure size 432x288 with 2 Axes>"
      ]
     },
     "metadata": {
      "needs_background": "light"
     },
     "output_type": "display_data"
    }
   ],
   "source": [
    "imshow(Left)"
   ]
  },
  {
   "cell_type": "code",
   "execution_count": 26,
   "id": "proof-viking",
   "metadata": {},
   "outputs": [
    {
     "data": {
      "text/plain": [
       "<matplotlib.image.AxesImage at 0x7f8ce77c6d90>"
      ]
     },
     "execution_count": 26,
     "metadata": {},
     "output_type": "execute_result"
    },
    {
     "data": {
      "image/png": "[encoded data removed]",
      "text/plain": [
       "<Figure size 432x288 with 2 Axes>"
      ]
     },
     "metadata": {
      "needs_background": "light"
     },
     "output_type": "display_data"
    }
   ],
   "source": [
    "imshow(Right)"
   ]
  },
  {
   "cell_type": "code",
   "execution_count": 27,
   "id": "small-object",
   "metadata": {},
   "outputs": [
    {
     "name": "stderr",
     "output_type": "stream",
     "text": [
      "<ipython-input-27-6f2e7a3d068d>:1: UserWarning: Up.png is a low contrast image\n",
      "  imsave('Up.png',Up)\n",
      "Lossy conversion from int16 to uint8. Range [0, 255]. Convert image to uint8 prior to saving to suppress this warning.\n",
      "<ipython-input-27-6f2e7a3d068d>:2: UserWarning: Down.png is a low contrast image\n",
      "  imsave('Down.png',Down)\n",
      "Lossy conversion from int16 to uint8. Range [0, 255]. Convert image to uint8 prior to saving to suppress this warning.\n",
      "<ipython-input-27-6f2e7a3d068d>:3: UserWarning: Left.png is a low contrast image\n",
      "  imsave('Left.png',Left)\n",
      "Lossy conversion from int16 to uint8. Range [0, 255]. Convert image to uint8 prior to saving to suppress this warning.\n",
      "<ipython-input-27-6f2e7a3d068d>:4: UserWarning: Right.png is a low contrast image\n",
      "  imsave('Right.png',Right)\n",
      "Lossy conversion from int16 to uint8. Range [0, 255]. Convert image to uint8 prior to saving to suppress this warning.\n"
     ]
    }
   ],
   "source": [
    "imsave('Up.png',Up)\n",
    "imsave('Down.png',Down)\n",
    "imsave('Left.png',Left)\n",
    "imsave('Right.png',Right)"
   ]
  },
  {
   "cell_type": "code",
   "execution_count": null,
   "id": "suburban-wallet",
   "metadata": {},
   "outputs": [],
   "source": []
  }
 ],
 "metadata": {
  "kernelspec": {
   "display_name": "Python 3",
   "language": "python",
   "name": "python3"
  },
  "language_info": {
   "codemirror_mode": {
    "name": "ipython",
    "version": 3
   },
   "file_extension": ".py",
   "mimetype": "text/x-python",
   "name": "python",
   "nbconvert_exporter": "python",
   "pygments_lexer": "ipython3",
   "version": "3.8.5"
  }
 },
 "nbformat": 4,
 "nbformat_minor": 5
}
